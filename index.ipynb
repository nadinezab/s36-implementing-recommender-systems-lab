{
 "cells": [
  {
   "cell_type": "markdown",
   "metadata": {},
   "source": [
    "# Implementing Recommender Systems - Lab\n",
    "\n",
    "## Introduction\n",
    "\n",
    "In this lab, you'll practice creating a recommender system model using `surprise`. You'll also get the chance to create a more complete recommender system pipeline to obtain the top recommendations for a specific user.\n"
   ]
  },
  {
   "cell_type": "markdown",
   "metadata": {},
   "source": [
    "## Objectives\n",
    "\n",
    "In this lab you will: \n",
    "\n",
    "- Use surprise's built-in reader class to process data to work with recommender algorithms \n",
    "- Obtain a prediction for a specific user for a particular item \n",
    "- Introduce a new user with rating to a rating matrix and make recommendations for them \n",
    "- Create a function that will return the top n recommendations for a user \n"
   ]
  },
  {
   "cell_type": "markdown",
   "metadata": {},
   "source": [
    "For this lab, we will be using the famous 1M movie dataset. It contains a collection of user ratings for many different movies. In the last lesson, you were exposed to working with `surprise` datasets. In this lab, you will also go through the process of reading in a dataset into the `surprise` dataset format. To begin with, load the dataset into a Pandas DataFrame. Determine which columns are necessary for your recommendation system and drop any extraneous ones."
   ]
  },
  {
   "cell_type": "code",
   "execution_count": 1,
   "metadata": {},
   "outputs": [
    {
     "name": "stdout",
     "output_type": "stream",
     "text": [
      "<class 'pandas.core.frame.DataFrame'>\n",
      "RangeIndex: 100836 entries, 0 to 100835\n",
      "Data columns (total 4 columns):\n",
      "userId       100836 non-null int64\n",
      "movieId      100836 non-null int64\n",
      "rating       100836 non-null float64\n",
      "timestamp    100836 non-null int64\n",
      "dtypes: float64(1), int64(3)\n",
      "memory usage: 3.1 MB\n"
     ]
    }
   ],
   "source": [
    "import pandas as pd\n",
    "df = pd.read_csv('./ml-latest-small/ratings.csv')\n",
    "df.info()"
   ]
  },
  {
   "cell_type": "code",
   "execution_count": 3,
   "metadata": {},
   "outputs": [
    {
     "data": {
      "text/html": [
       "<div>\n",
       "<style scoped>\n",
       "    .dataframe tbody tr th:only-of-type {\n",
       "        vertical-align: middle;\n",
       "    }\n",
       "\n",
       "    .dataframe tbody tr th {\n",
       "        vertical-align: top;\n",
       "    }\n",
       "\n",
       "    .dataframe thead th {\n",
       "        text-align: right;\n",
       "    }\n",
       "</style>\n",
       "<table border=\"1\" class=\"dataframe\">\n",
       "  <thead>\n",
       "    <tr style=\"text-align: right;\">\n",
       "      <th></th>\n",
       "      <th>userId</th>\n",
       "      <th>movieId</th>\n",
       "      <th>rating</th>\n",
       "    </tr>\n",
       "  </thead>\n",
       "  <tbody>\n",
       "    <tr>\n",
       "      <td>0</td>\n",
       "      <td>1</td>\n",
       "      <td>1</td>\n",
       "      <td>4.0</td>\n",
       "    </tr>\n",
       "    <tr>\n",
       "      <td>1</td>\n",
       "      <td>1</td>\n",
       "      <td>3</td>\n",
       "      <td>4.0</td>\n",
       "    </tr>\n",
       "    <tr>\n",
       "      <td>2</td>\n",
       "      <td>1</td>\n",
       "      <td>6</td>\n",
       "      <td>4.0</td>\n",
       "    </tr>\n",
       "    <tr>\n",
       "      <td>3</td>\n",
       "      <td>1</td>\n",
       "      <td>47</td>\n",
       "      <td>5.0</td>\n",
       "    </tr>\n",
       "    <tr>\n",
       "      <td>4</td>\n",
       "      <td>1</td>\n",
       "      <td>50</td>\n",
       "      <td>5.0</td>\n",
       "    </tr>\n",
       "  </tbody>\n",
       "</table>\n",
       "</div>"
      ],
      "text/plain": [
       "   userId  movieId  rating\n",
       "0       1        1     4.0\n",
       "1       1        3     4.0\n",
       "2       1        6     4.0\n",
       "3       1       47     5.0\n",
       "4       1       50     5.0"
      ]
     },
     "execution_count": 3,
     "metadata": {},
     "output_type": "execute_result"
    }
   ],
   "source": [
    "# Drop unnecessary columns\n",
    "new_df = df.drop('timestamp', axis = 1)\n",
    "new_df.head()"
   ]
  },
  {
   "cell_type": "markdown",
   "metadata": {},
   "source": [
    "It's now time to transform the dataset into something compatible with `surprise`. In order to do this, you're going to need `Reader` and `Dataset` classes. There's a method in `Dataset` specifically for loading dataframes."
   ]
  },
  {
   "cell_type": "code",
   "execution_count": 5,
   "metadata": {},
   "outputs": [],
   "source": [
    "from surprise import Reader, Dataset\n",
    "\n",
    "# read in values as Surprise dataset \n",
    "reader = Reader()\n",
    "data = Dataset.load_from_df(new_df, reader)"
   ]
  },
  {
   "cell_type": "markdown",
   "metadata": {},
   "source": [
    "Let's look at how many users and items we have in our dataset. If using neighborhood-based methods, this will help us determine whether or not we should perform user-user or item-item similarity"
   ]
  },
  {
   "cell_type": "code",
   "execution_count": 6,
   "metadata": {},
   "outputs": [
    {
     "name": "stdout",
     "output_type": "stream",
     "text": [
      "Number of users:  610 \n",
      "\n",
      "Number of items:  9724\n"
     ]
    }
   ],
   "source": [
    "dataset = data.build_full_trainset()\n",
    "print('Number of users: ', dataset.n_users, '\\n')\n",
    "print('Number of items: ', dataset.n_items)"
   ]
  },
  {
   "cell_type": "markdown",
   "metadata": {},
   "source": [
    "## Determine the best model \n",
    "\n",
    "Now, compare the different models and see which ones perform best. For consistency sake, use RMSE to evaluate models. Remember to cross-validate! Can you get a model with a higher average RMSE on test data than 0.869?"
   ]
  },
  {
   "cell_type": "code",
   "execution_count": 7,
   "metadata": {},
   "outputs": [],
   "source": [
    "# importing relevant libraries\n",
    "from surprise.model_selection import cross_validate\n",
    "from surprise.prediction_algorithms import SVD\n",
    "from surprise.prediction_algorithms import KNNWithMeans, KNNBasic, KNNBaseline\n",
    "from surprise.model_selection import GridSearchCV\n",
    "import numpy as np"
   ]
  },
  {
   "cell_type": "code",
   "execution_count": 9,
   "metadata": {},
   "outputs": [],
   "source": [
    "## Perform a gridsearch with SVD\n",
    "# ⏰ This cell may take several minutes to run\n",
    "\n",
    "param_grid = { 'n_factors': [20, 30, 50], \n",
    "               'reg_all' : [0.02, 0.05]}\n",
    "\n",
    "gs = GridSearchCV(SVD, param_grid = param_grid, n_jobs = -1)\n",
    "gs.fit(data)"
   ]
  },
  {
   "cell_type": "code",
   "execution_count": 12,
   "metadata": {
    "scrolled": true
   },
   "outputs": [
    {
     "data": {
      "text/plain": [
       "{'rmse': {'n_factors': 50, 'reg_all': 0.05},\n",
       " 'mae': {'n_factors': 50, 'reg_all': 0.02}}"
      ]
     },
     "execution_count": 12,
     "metadata": {},
     "output_type": "execute_result"
    }
   ],
   "source": [
    "# print out optimal parameters for SVD after GridSearch\n",
    "gs.best_params"
   ]
  },
  {
   "cell_type": "code",
   "execution_count": 13,
   "metadata": {},
   "outputs": [
    {
     "data": {
      "text/plain": [
       "{'rmse': 0.869035842823162, 'mae': 0.6678693736041288}"
      ]
     },
     "execution_count": 13,
     "metadata": {},
     "output_type": "execute_result"
    }
   ],
   "source": [
    "gs.best_score"
   ]
  },
  {
   "cell_type": "code",
   "execution_count": 15,
   "metadata": {},
   "outputs": [],
   "source": [
    "# cross validating with KNNBasic\n",
    "knn = KNNBasic(sim_options = {'name':'pearson', 'user_based' : True})\n",
    "cv_knn = cross_validate(knn, data, n_jobs = -1)"
   ]
  },
  {
   "cell_type": "code",
   "execution_count": 18,
   "metadata": {},
   "outputs": [
    {
     "data": {
      "text/plain": [
       "0.9719838917640052"
      ]
     },
     "execution_count": 18,
     "metadata": {},
     "output_type": "execute_result"
    }
   ],
   "source": [
    "np.mean(cv_knn['test_rmse'])"
   ]
  },
  {
   "cell_type": "code",
   "execution_count": 15,
   "metadata": {},
   "outputs": [
    {
     "name": "stdout",
     "output_type": "stream",
     "text": [
      "('test_rmse', array([0.97646619, 0.97270627, 0.97874535, 0.97029184, 0.96776748]))\n",
      "('test_mae', array([0.75444119, 0.75251222, 0.7531242 , 0.74938542, 0.75152129]))\n",
      "('fit_time', (0.46678805351257324, 0.54010009765625, 0.7059998512268066, 0.5852491855621338, 1.0139541625976562))\n",
      "('test_time', (2.308177947998047, 2.4834508895874023, 2.6563329696655273, 2.652374029159546, 1.2219891548156738))\n",
      "-----------------------\n",
      "0.9731954260849399\n"
     ]
    }
   ],
   "source": [
    "# print out the average RMSE score for the test set"
   ]
  },
  {
   "cell_type": "code",
   "execution_count": 19,
   "metadata": {},
   "outputs": [],
   "source": [
    "# cross validating with KNNBaseline\n",
    "knn_baseline = KNNBaseline(sim_options = {'name':'pearson', 'user_based' : True})\n",
    "cv_knn_baseline = cross_validate(knn_baseline, data, n_jobs = -1)"
   ]
  },
  {
   "cell_type": "code",
   "execution_count": 20,
   "metadata": {},
   "outputs": [
    {
     "data": {
      "text/plain": [
       "0.8760464801048766"
      ]
     },
     "execution_count": 20,
     "metadata": {},
     "output_type": "execute_result"
    }
   ],
   "source": [
    "np.mean(cv_knn_baseline['test_rmse'])"
   ]
  },
  {
   "cell_type": "code",
   "execution_count": 17,
   "metadata": {},
   "outputs": [
    {
     "name": "stdout",
     "output_type": "stream",
     "text": [
      "('test_rmse', array([0.87268017, 0.88765352, 0.87311917, 0.88706914, 0.87043399]))\n",
      "('test_mae', array([0.66796685, 0.676203  , 0.66790869, 0.67904038, 0.66459155]))\n",
      "('fit_time', (0.6972200870513916, 0.7296440601348877, 0.5842609405517578, 0.609612226486206, 0.61130690574646))\n",
      "('test_time', (1.5466029644012451, 1.567044973373413, 1.6441452503204346, 1.5709199905395508, 1.6216418743133545))\n"
     ]
    },
    {
     "data": {
      "text/plain": [
       "0.8781911983703239"
      ]
     },
     "execution_count": 17,
     "metadata": {},
     "output_type": "execute_result"
    }
   ],
   "source": [
    "# print out the average score for the test set\n"
   ]
  },
  {
   "cell_type": "markdown",
   "metadata": {},
   "source": [
    "Based off these outputs, it seems like the best performing model is the SVD model with `n_factors = 50` and a regularization rate of 0.05. Use that model or if you found one that performs better, feel free to use that to make some predictions."
   ]
  },
  {
   "cell_type": "markdown",
   "metadata": {},
   "source": [
    "## Making Recommendations\n",
    "\n",
    "It's important that the output for the recommendation is interpretable to people. Rather than returning the `movie_id` values, it would be far more valuable to return the actual title of the movie. As a first step, let's read in the movies to a dataframe and take a peek at what information we have about them."
   ]
  },
  {
   "cell_type": "code",
   "execution_count": 21,
   "metadata": {},
   "outputs": [],
   "source": [
    "df_movies = pd.read_csv('./ml-latest-small/movies.csv')"
   ]
  },
  {
   "cell_type": "code",
   "execution_count": 22,
   "metadata": {
    "scrolled": true
   },
   "outputs": [
    {
     "data": {
      "text/html": [
       "<div>\n",
       "<style scoped>\n",
       "    .dataframe tbody tr th:only-of-type {\n",
       "        vertical-align: middle;\n",
       "    }\n",
       "\n",
       "    .dataframe tbody tr th {\n",
       "        vertical-align: top;\n",
       "    }\n",
       "\n",
       "    .dataframe thead th {\n",
       "        text-align: right;\n",
       "    }\n",
       "</style>\n",
       "<table border=\"1\" class=\"dataframe\">\n",
       "  <thead>\n",
       "    <tr style=\"text-align: right;\">\n",
       "      <th></th>\n",
       "      <th>movieId</th>\n",
       "      <th>title</th>\n",
       "      <th>genres</th>\n",
       "    </tr>\n",
       "  </thead>\n",
       "  <tbody>\n",
       "    <tr>\n",
       "      <td>0</td>\n",
       "      <td>1</td>\n",
       "      <td>Toy Story (1995)</td>\n",
       "      <td>Adventure|Animation|Children|Comedy|Fantasy</td>\n",
       "    </tr>\n",
       "    <tr>\n",
       "      <td>1</td>\n",
       "      <td>2</td>\n",
       "      <td>Jumanji (1995)</td>\n",
       "      <td>Adventure|Children|Fantasy</td>\n",
       "    </tr>\n",
       "    <tr>\n",
       "      <td>2</td>\n",
       "      <td>3</td>\n",
       "      <td>Grumpier Old Men (1995)</td>\n",
       "      <td>Comedy|Romance</td>\n",
       "    </tr>\n",
       "    <tr>\n",
       "      <td>3</td>\n",
       "      <td>4</td>\n",
       "      <td>Waiting to Exhale (1995)</td>\n",
       "      <td>Comedy|Drama|Romance</td>\n",
       "    </tr>\n",
       "    <tr>\n",
       "      <td>4</td>\n",
       "      <td>5</td>\n",
       "      <td>Father of the Bride Part II (1995)</td>\n",
       "      <td>Comedy</td>\n",
       "    </tr>\n",
       "  </tbody>\n",
       "</table>\n",
       "</div>"
      ],
      "text/plain": [
       "   movieId                               title  \\\n",
       "0        1                    Toy Story (1995)   \n",
       "1        2                      Jumanji (1995)   \n",
       "2        3             Grumpier Old Men (1995)   \n",
       "3        4            Waiting to Exhale (1995)   \n",
       "4        5  Father of the Bride Part II (1995)   \n",
       "\n",
       "                                        genres  \n",
       "0  Adventure|Animation|Children|Comedy|Fantasy  \n",
       "1                   Adventure|Children|Fantasy  \n",
       "2                               Comedy|Romance  \n",
       "3                         Comedy|Drama|Romance  \n",
       "4                                       Comedy  "
      ]
     },
     "execution_count": 22,
     "metadata": {},
     "output_type": "execute_result"
    }
   ],
   "source": [
    "df_movies.head()"
   ]
  },
  {
   "cell_type": "markdown",
   "metadata": {},
   "source": [
    "## Making simple predictions\n",
    "Just as a reminder, let's look at how you make a prediction for an individual user and item. First, we'll fit the SVD model we had from before."
   ]
  },
  {
   "cell_type": "code",
   "execution_count": 23,
   "metadata": {},
   "outputs": [
    {
     "data": {
      "text/plain": [
       "<surprise.prediction_algorithms.matrix_factorization.SVD at 0x11a960eb8>"
      ]
     },
     "execution_count": 23,
     "metadata": {},
     "output_type": "execute_result"
    }
   ],
   "source": [
    "svd = SVD(n_factors= 50, reg_all=0.05)\n",
    "svd.fit(dataset)"
   ]
  },
  {
   "cell_type": "code",
   "execution_count": 73,
   "metadata": {},
   "outputs": [
    {
     "data": {
      "text/plain": [
       "Prediction(uid=1, iid=6, r_ui=None, est=4.602893798382711, details={'was_impossible': False})"
      ]
     },
     "execution_count": 73,
     "metadata": {},
     "output_type": "execute_result"
    }
   ],
   "source": [
    "svd.predict(1, 6)"
   ]
  },
  {
   "cell_type": "markdown",
   "metadata": {},
   "source": [
    "This prediction value is a tuple and each of the values within it can be accessed by way of indexing. Now let's put our knowledge of recommendation systems to do something interesting: making predictions for a new user!"
   ]
  },
  {
   "cell_type": "markdown",
   "metadata": {},
   "source": [
    "## Obtaining User Ratings \n",
    "\n",
    "It's great that we have working models and everything, but wouldn't it be nice to get to recommendations specifically tailored to your preferences? That's what we'll be doing now. The first step is to create a function that allows us to pick randomly selected movies. The function should present users with a movie and ask them to rate it. If they have not seen the movie, they should be able to skip rating it. \n",
    "\n",
    "The function `movie_rater()` should take as parameters: \n",
    "\n",
    "* `movie_df`: DataFrame - a dataframe containing the movie ids, name of movie, and genres\n",
    "* `num`: int - number of ratings\n",
    "* `genre`: string - a specific genre from which to draw movies\n",
    "\n",
    "The function returns:\n",
    "* rating_list : list - a collection of dictionaries in the format of {'userId': int , 'movieId': int , 'rating': float}\n",
    "\n",
    "#### This function is optional, but fun :) "
   ]
  },
  {
   "cell_type": "code",
   "execution_count": 47,
   "metadata": {},
   "outputs": [],
   "source": [
    "def movie_rater(movie_df,num, genre=None):\n",
    "    userId = 1000\n",
    "    rating_list = []\n",
    "    while num > 0:\n",
    "        if genre:\n",
    "            movie = movie_df[movie_df['genres'].str.contains(genre)].sample(1)\n",
    "        else:\n",
    "            movie = movie_df.sample(1)\n",
    "        print(movie)\n",
    "        rating = input('How do you rate this movie on a scale of 1-5, press n if you have not seen :')\n",
    "        if rating == 'n':\n",
    "            continue\n",
    "        else:\n",
    "            movie_rating = {'userId' : userId, 'movieId': movie['movieId'].values[0], 'rating': rating}\n",
    "            rating_list.append(movie_rating)\n",
    "            num -= 1\n",
    "    return rating_list\n",
    "        "
   ]
  },
  {
   "cell_type": "code",
   "execution_count": 54,
   "metadata": {
    "scrolled": false
   },
   "outputs": [
    {
     "name": "stdout",
     "output_type": "stream",
     "text": [
      "      movieId                    title   genres\n",
      "2414     3206  Against All Odds (1984)  Romance\n",
      "How do you rate this movie on a scale of 1-5, press n if you have not seen :n\n",
      "      movieId                                   title       genres\n",
      "3454     4711  Theremin: An Electronic Odyssey (1993)  Documentary\n",
      "How do you rate this movie on a scale of 1-5, press n if you have not seen :n\n",
      "      movieId                      title genres\n",
      "5450    26082  Harakiri (Seppuku) (1962)  Drama\n",
      "How do you rate this movie on a scale of 1-5, press n if you have not seen :n\n",
      "      movieId          title genres\n",
      "5377     8966  Kinsey (2004)  Drama\n",
      "How do you rate this movie on a scale of 1-5, press n if you have not seen :n\n",
      "      movieId                     title           genres\n",
      "3071     4124  Jaws: The Revenge (1987)  Horror|Thriller\n",
      "How do you rate this movie on a scale of 1-5, press n if you have not seen :n\n",
      "      movieId                title                    genres\n",
      "3576     4899  Black Knight (2001)  Adventure|Comedy|Fantasy\n",
      "How do you rate this movie on a scale of 1-5, press n if you have not seen :4\n",
      "      movieId               title        genres\n",
      "7588    86320  Melancholia (2011)  Drama|Sci-Fi\n",
      "How do you rate this movie on a scale of 1-5, press n if you have not seen :n\n",
      "      movieId                   title        genres\n",
      "2298     3045  Peter's Friends (1992)  Comedy|Drama\n",
      "How do you rate this movie on a scale of 1-5, press n if you have not seen :n\n",
      "      movieId               title                    genres\n",
      "7643    88108  Monte Carlo (2011)  Adventure|Comedy|Romance\n",
      "How do you rate this movie on a scale of 1-5, press n if you have not seen :n\n",
      "      movieId             title                     genres\n",
      "5004     7743  Explorers (1985)  Adventure|Children|Sci-Fi\n",
      "How do you rate this movie on a scale of 1-5, press n if you have not seen :n\n",
      "      movieId        title         genres\n",
      "4517     6691  Dust (2001)  Drama|Western\n",
      "How do you rate this movie on a scale of 1-5, press n if you have not seen :n\n",
      "      movieId                          title  genres\n",
      "7019    68444  Great Buck Howard, The (2008)  Comedy\n",
      "How do you rate this movie on a scale of 1-5, press n if you have not seen :n\n",
      "      movieId                  title genres\n",
      "6071    40966  Libertine, The (2004)  Drama\n",
      "How do you rate this movie on a scale of 1-5, press n if you have not seen :n\n",
      "      movieId       title               genres\n",
      "8889   134368  Spy (2015)  Action|Comedy|Crime\n",
      "How do you rate this movie on a scale of 1-5, press n if you have not seen :n\n",
      "      movieId                          title  genres\n",
      "8834   131934  The Malibu Bikini Shop (1986)  Comedy\n",
      "How do you rate this movie on a scale of 1-5, press n if you have not seen :n\n",
      "      movieId                  title                 genres\n",
      "1349     1835  City of Angels (1998)  Drama|Fantasy|Romance\n",
      "How do you rate this movie on a scale of 1-5, press n if you have not seen :n\n",
      "      movieId                        title  genres\n",
      "8680   122627  Oblivion 2: Backlash (1996)  Sci-Fi\n",
      "How do you rate this movie on a scale of 1-5, press n if you have not seen :n\n",
      "      movieId             title                    genres\n",
      "8132   101577  Host, The (2013)  Action|Adventure|Romance\n",
      "How do you rate this movie on a scale of 1-5, press n if you have not seen :n\n",
      "      movieId                             title  genres\n",
      "2821     3769  Thunderbolt and Lightfoot (1974)  Action\n",
      "How do you rate this movie on a scale of 1-5, press n if you have not seen :n\n",
      "      movieId                title                 genres\n",
      "9080   142961  Life Eternal (2015)  Comedy|Crime|Thriller\n",
      "How do you rate this movie on a scale of 1-5, press n if you have not seen :n\n",
      "      movieId             title                       genres\n",
      "8759   128488  Wild Card (2015)  Action|Crime|Drama|Thriller\n",
      "How do you rate this movie on a scale of 1-5, press n if you have not seen :n\n",
      "      movieId                                              title  \\\n",
      "5238     8582  Manufacturing Consent: Noam Chomsky and the Me...   \n",
      "\n",
      "               genres  \n",
      "5238  Documentary|War  \n",
      "How do you rate this movie on a scale of 1-5, press n if you have not seen :n\n",
      "      movieId                   title                              genres\n",
      "3657     5027  Another 48 Hrs. (1990)  Action|Comedy|Crime|Drama|Thriller\n",
      "How do you rate this movie on a scale of 1-5, press n if you have not seen :n\n",
      "      movieId                                         title           genres\n",
      "8328   107449  Muppet Christmas: Letters to Santa, A (2008)  Children|Comedy\n",
      "How do you rate this movie on a scale of 1-5, press n if you have not seen :n\n",
      "      movieId                title                        genres\n",
      "7564    85510  Sucker Punch (2011)  Action|Fantasy|Thriller|IMAX\n",
      "How do you rate this movie on a scale of 1-5, press n if you have not seen :3\n",
      "      movieId                     title                   genres\n",
      "8130   101529  Brass Teapot, The (2012)  Comedy|Fantasy|Thriller\n",
      "How do you rate this movie on a scale of 1-5, press n if you have not seen :n\n",
      "     movieId                    title          genres\n",
      "532      627  Last Supper, The (1995)  Drama|Thriller\n",
      "How do you rate this movie on a scale of 1-5, press n if you have not seen :n\n",
      "      movieId                title                genres\n",
      "9308   159193  Café Society (2016)  Comedy|Drama|Romance\n",
      "How do you rate this movie on a scale of 1-5, press n if you have not seen :n\n",
      "      movieId                   title  genres\n",
      "2105     2799  Problem Child 2 (1991)  Comedy\n",
      "How do you rate this movie on a scale of 1-5, press n if you have not seen :n\n",
      "      movieId                 title       genres\n",
      "7582    86279  Into Eternity (2010)  Documentary\n",
      "How do you rate this movie on a scale of 1-5, press n if you have not seen :n\n",
      "      movieId                                          title  genres\n",
      "7815    92535  Louis C.K.: Live at the Beacon Theater (2011)  Comedy\n",
      "How do you rate this movie on a scale of 1-5, press n if you have not seen :n\n",
      "      movieId                         title genres\n",
      "1088     1413  Whole Wide World, The (1996)  Drama\n",
      "How do you rate this movie on a scale of 1-5, press n if you have not seen :n\n",
      "      movieId            title          genres\n",
      "2168     2884  Dog Park (1998)  Comedy|Romance\n",
      "How do you rate this movie on a scale of 1-5, press n if you have not seen :n\n",
      "      movieId               title            genres\n",
      "3856     5420  Windtalkers (2002)  Action|Drama|War\n",
      "How do you rate this movie on a scale of 1-5, press n if you have not seen :n\n",
      "      movieId                                              title  \\\n",
      "9562   173535  The Adventures of Sherlock Holmes and Doctor W...   \n",
      "\n",
      "                  genres  \n",
      "9562  (no genres listed)  \n",
      "How do you rate this movie on a scale of 1-5, press n if you have not seen :n\n",
      "      movieId                      title genres\n",
      "2365     3135  Great Santini, The (1979)  Drama\n",
      "How do you rate this movie on a scale of 1-5, press n if you have not seen :n\n",
      "      movieId                      title                        genres\n",
      "8613   118354  Kill the Messenger (2014)  Crime|Drama|Mystery|Thriller\n",
      "How do you rate this movie on a scale of 1-5, press n if you have not seen :n\n",
      "      movieId                            title        genres\n",
      "3530     4825  Swamp, The (Ciénaga, La) (2001)  Comedy|Drama\n",
      "How do you rate this movie on a scale of 1-5, press n if you have not seen :n\n",
      "      movieId                      title          genres\n",
      "6967    66198  International, The (2009)  Drama|Thriller\n",
      "How do you rate this movie on a scale of 1-5, press n if you have not seen :n\n",
      "      movieId                         title  \\\n",
      "8794   130050  Digging Up the Marrow (2014)   \n",
      "\n",
      "                                     genres  \n",
      "8794  Drama|Fantasy|Horror|Mystery|Thriller  \n",
      "How do you rate this movie on a scale of 1-5, press n if you have not seen :n\n",
      "     movieId                   title  genres\n",
      "405      467  Live Nude Girls (1995)  Comedy\n",
      "How do you rate this movie on a scale of 1-5, press n if you have not seen :n\n",
      "     movieId         title                        genres\n",
      "661      866  Bound (1996)  Crime|Drama|Romance|Thriller\n",
      "How do you rate this movie on a scale of 1-5, press n if you have not seen :n\n",
      "      movieId                  title          genres\n",
      "6088    42002  Producers, The (2005)  Comedy|Musical\n"
     ]
    },
    {
     "name": "stdout",
     "output_type": "stream",
     "text": [
      "How do you rate this movie on a scale of 1-5, press n if you have not seen :4\n",
      "      movieId                 title          genres\n",
      "1062     1379  Young Guns II (1990)  Action|Western\n",
      "How do you rate this movie on a scale of 1-5, press n if you have not seen :n\n",
      "      movieId                              title                   genres\n",
      "7329    77798  Nightmare on Elm Street, A (2010)  Fantasy|Horror|Thriller\n",
      "How do you rate this movie on a scale of 1-5, press n if you have not seen :n\n",
      "      movieId             title                       genres\n",
      "5643    27420  Teknolust (2002)  Comedy|Drama|Romance|Sci-Fi\n",
      "How do you rate this movie on a scale of 1-5, press n if you have not seen :n\n",
      "      movieId                                              title  \\\n",
      "8324   107410  Guest from the Future (Gostya iz buduschego) (...   \n",
      "\n",
      "                      genres  \n",
      "8324  Adventure|Drama|Sci-Fi  \n",
      "How do you rate this movie on a scale of 1-5, press n if you have not seen :n\n",
      "      movieId                                    title  genres\n",
      "5222     8528  Dodgeball: A True Underdog Story (2004)  Comedy\n",
      "How do you rate this movie on a scale of 1-5, press n if you have not seen :n\n",
      "     movieId        title                  genres\n",
      "567      692  Solo (1996)  Action|Sci-Fi|Thriller\n",
      "How do you rate this movie on a scale of 1-5, press n if you have not seen :n\n",
      "      movieId              title  genres\n",
      "4245     6188  Old School (2003)  Comedy\n",
      "How do you rate this movie on a scale of 1-5, press n if you have not seen :n\n",
      "      movieId              title genres\n",
      "6066    40870  C.R.A.Z.Y. (2005)  Drama\n",
      "How do you rate this movie on a scale of 1-5, press n if you have not seen :n\n",
      "      movieId                   title                     genres\n",
      "9590   175475  The Emoji Movie (2017)  Animation|Children|Comedy\n",
      "How do you rate this movie on a scale of 1-5, press n if you have not seen :n\n",
      "      movieId                   title       genres\n",
      "1078     1398  In Love and War (1996)  Romance|War\n",
      "How do you rate this movie on a scale of 1-5, press n if you have not seen :n\n",
      "      movieId                  title                         genres\n",
      "6962    65882  Uninvited, The (2009)  Drama|Horror|Mystery|Thriller\n",
      "How do you rate this movie on a scale of 1-5, press n if you have not seen :n\n",
      "      movieId           title                genres\n",
      "3016     4034  Traffic (2000)  Crime|Drama|Thriller\n",
      "How do you rate this movie on a scale of 1-5, press n if you have not seen :n\n",
      "      movieId          title                                    genres\n",
      "7639    87876  Cars 2 (2011)  Adventure|Animation|Children|Comedy|IMAX\n",
      "How do you rate this movie on a scale of 1-5, press n if you have not seen :3\n",
      "      movieId                    title                        genres\n",
      "9047   141818  Ordinary Miracle (1978)  Comedy|Drama|Fantasy|Romance\n",
      "How do you rate this movie on a scale of 1-5, press n if you have not seen :n\n",
      "      movieId                  title                  genres\n",
      "8179   102903  Now You See Me (2013)  Crime|Mystery|Thriller\n",
      "How do you rate this movie on a scale of 1-5, press n if you have not seen :5\n"
     ]
    }
   ],
   "source": [
    "user_rating = movie_rater(df_movies, 5)"
   ]
  },
  {
   "cell_type": "code",
   "execution_count": 55,
   "metadata": {},
   "outputs": [
    {
     "data": {
      "text/plain": [
       "[{'userId': 1000, 'movieId': 4899, 'rating': '4'},\n",
       " {'userId': 1000, 'movieId': 85510, 'rating': '3'},\n",
       " {'userId': 1000, 'movieId': 42002, 'rating': '4'},\n",
       " {'userId': 1000, 'movieId': 87876, 'rating': '3'},\n",
       " {'userId': 1000, 'movieId': 102903, 'rating': '5'}]"
      ]
     },
     "execution_count": 55,
     "metadata": {},
     "output_type": "execute_result"
    }
   ],
   "source": [
    "user_rating"
   ]
  },
  {
   "cell_type": "code",
   "execution_count": 37,
   "metadata": {
    "scrolled": false
   },
   "outputs": [
    {
     "name": "stdout",
     "output_type": "stream",
     "text": [
      "      movieId                   title          genres\n",
      "6579    55245  Good Luck Chuck (2007)  Comedy|Romance\n",
      "How do you rate this movie on a scale of 1-5, press n if you have not seen :\n",
      "5\n",
      "      movieId                       title          genres\n",
      "1873     2491  Simply Irresistible (1999)  Comedy|Romance\n",
      "How do you rate this movie on a scale of 1-5, press n if you have not seen :\n",
      "4\n",
      "      movieId                  title  genres\n",
      "3459     4718  American Pie 2 (2001)  Comedy\n",
      "How do you rate this movie on a scale of 1-5, press n if you have not seen :\n",
      "4\n",
      "      movieId             title                   genres\n",
      "4160     5990  Pinocchio (2002)  Children|Comedy|Fantasy\n",
      "How do you rate this movie on a scale of 1-5, press n if you have not seen :\n",
      "3\n"
     ]
    }
   ],
   "source": [
    "# try out the new function here!"
   ]
  },
  {
   "cell_type": "markdown",
   "metadata": {},
   "source": [
    "If you're struggling to come up with the above function, you can use this list of user ratings to complete the next segment"
   ]
  },
  {
   "cell_type": "code",
   "execution_count": 38,
   "metadata": {},
   "outputs": [
    {
     "data": {
      "text/plain": [
       "[{'userId': 1000, 'movieId': 55245, 'rating': '5'},\n",
       " {'userId': 1000, 'movieId': 2491, 'rating': '4'},\n",
       " {'userId': 1000, 'movieId': 4718, 'rating': '4'},\n",
       " {'userId': 1000, 'movieId': 5990, 'rating': '3'}]"
      ]
     },
     "execution_count": 38,
     "metadata": {},
     "output_type": "execute_result"
    }
   ],
   "source": [
    "user_rating"
   ]
  },
  {
   "cell_type": "markdown",
   "metadata": {},
   "source": [
    "### Making Predictions With the New Ratings\n",
    "Now that you have new ratings, you can use them to make predictions for this new user. The proper way this should work is:\n",
    "\n",
    "* add the new ratings to the original ratings DataFrame, read into a `surprise` dataset \n",
    "* train a model using the new combined DataFrame\n",
    "* make predictions for the user\n",
    "* order those predictions from highest rated to lowest rated\n",
    "* return the top n recommendations with the text of the actual movie (rather than just the index number) "
   ]
  },
  {
   "cell_type": "code",
   "execution_count": 56,
   "metadata": {},
   "outputs": [],
   "source": [
    "## add the new ratings to the original ratings DataFrame\n",
    "added_ratings = new_df.append(user_rating, ignore_index = True)"
   ]
  },
  {
   "cell_type": "code",
   "execution_count": 57,
   "metadata": {
    "scrolled": true
   },
   "outputs": [
    {
     "data": {
      "text/html": [
       "<div>\n",
       "<style scoped>\n",
       "    .dataframe tbody tr th:only-of-type {\n",
       "        vertical-align: middle;\n",
       "    }\n",
       "\n",
       "    .dataframe tbody tr th {\n",
       "        vertical-align: top;\n",
       "    }\n",
       "\n",
       "    .dataframe thead th {\n",
       "        text-align: right;\n",
       "    }\n",
       "</style>\n",
       "<table border=\"1\" class=\"dataframe\">\n",
       "  <thead>\n",
       "    <tr style=\"text-align: right;\">\n",
       "      <th></th>\n",
       "      <th>userId</th>\n",
       "      <th>movieId</th>\n",
       "      <th>rating</th>\n",
       "    </tr>\n",
       "  </thead>\n",
       "  <tbody>\n",
       "    <tr>\n",
       "      <td>0</td>\n",
       "      <td>1</td>\n",
       "      <td>1</td>\n",
       "      <td>4</td>\n",
       "    </tr>\n",
       "    <tr>\n",
       "      <td>1</td>\n",
       "      <td>1</td>\n",
       "      <td>3</td>\n",
       "      <td>4</td>\n",
       "    </tr>\n",
       "    <tr>\n",
       "      <td>2</td>\n",
       "      <td>1</td>\n",
       "      <td>6</td>\n",
       "      <td>4</td>\n",
       "    </tr>\n",
       "    <tr>\n",
       "      <td>3</td>\n",
       "      <td>1</td>\n",
       "      <td>47</td>\n",
       "      <td>5</td>\n",
       "    </tr>\n",
       "    <tr>\n",
       "      <td>4</td>\n",
       "      <td>1</td>\n",
       "      <td>50</td>\n",
       "      <td>5</td>\n",
       "    </tr>\n",
       "  </tbody>\n",
       "</table>\n",
       "</div>"
      ],
      "text/plain": [
       "   userId  movieId rating\n",
       "0       1        1      4\n",
       "1       1        3      4\n",
       "2       1        6      4\n",
       "3       1       47      5\n",
       "4       1       50      5"
      ]
     },
     "execution_count": 57,
     "metadata": {},
     "output_type": "execute_result"
    }
   ],
   "source": [
    "added_ratings.head()"
   ]
  },
  {
   "cell_type": "code",
   "execution_count": 58,
   "metadata": {},
   "outputs": [],
   "source": [
    "new_data = Dataset.load_from_df(added_ratings, reader)"
   ]
  },
  {
   "cell_type": "code",
   "execution_count": 59,
   "metadata": {},
   "outputs": [
    {
     "data": {
      "text/plain": [
       "<surprise.prediction_algorithms.matrix_factorization.SVD at 0x11b392f28>"
      ]
     },
     "execution_count": 59,
     "metadata": {},
     "output_type": "execute_result"
    }
   ],
   "source": [
    "# train a model using the new combined DataFrame\n",
    "svd = SVD(n_factors=50, reg_all=0.05)\n",
    "svd.fit(new_data.build_full_trainset())"
   ]
  },
  {
   "cell_type": "code",
   "execution_count": 62,
   "metadata": {},
   "outputs": [],
   "source": [
    "# make predictions for the user\n",
    "# you'll probably want to create a list of tuples in the format (movie_id, predicted_score)\n",
    "list_of_movies = []\n",
    "for movie_id in new_df['movieId'].unique():\n",
    "    prediction = svd.predict(1000, movie_id)[3]\n",
    "    list_of_movies.append((movie_id, prediction))"
   ]
  },
  {
   "cell_type": "code",
   "execution_count": 63,
   "metadata": {},
   "outputs": [],
   "source": [
    "# order the predictions from highest to lowest rated\n",
    "ranked_movies = sorted(list_of_movies, key = lambda x: x[1], reverse = True)"
   ]
  },
  {
   "cell_type": "code",
   "execution_count": 64,
   "metadata": {},
   "outputs": [
    {
     "data": {
      "text/plain": [
       "[(1204, 4.581974681356739),\n",
       " (318, 4.560402633399134),\n",
       " (750, 4.530430075910045),\n",
       " (741, 4.479380442491984),\n",
       " (1136, 4.46525988791567)]"
      ]
     },
     "execution_count": 64,
     "metadata": {},
     "output_type": "execute_result"
    }
   ],
   "source": [
    "ranked_movies[:5]"
   ]
  },
  {
   "cell_type": "markdown",
   "metadata": {},
   "source": [
    " For the final component of this challenge, it could be useful to create a function `recommended_movies()` that takes in the parameters:\n",
    "* `user_ratings`: list - list of tuples formulated as (user_id, movie_id) (should be in order of best to worst for this individual)\n",
    "* `movie_title_df`: DataFrame \n",
    "* `n`: int - number of recommended movies \n",
    "\n",
    "The function should use a `for` loop to print out each recommended *n* movies in order from best to worst"
   ]
  },
  {
   "cell_type": "code",
   "execution_count": 69,
   "metadata": {},
   "outputs": [
    {
     "name": "stdout",
     "output_type": "stream",
     "text": [
      "Recommendation # 0: 906    Lawrence of Arabia (1962)\n",
      "Name: title, dtype: object \n",
      "\n",
      "Recommendation # 1: 277    Shawshank Redemption, The (1994)\n",
      "Name: title, dtype: object \n",
      "\n",
      "Recommendation # 2: 602    Dr. Strangelove or: How I Learned to Stop Worr...\n",
      "Name: title, dtype: object \n",
      "\n",
      "Recommendation # 3: 596    Ghost in the Shell (Kôkaku kidôtai) (1995)\n",
      "Name: title, dtype: object \n",
      "\n",
      "Recommendation # 4: 863    Monty Python and the Holy Grail (1975)\n",
      "Name: title, dtype: object \n",
      "\n"
     ]
    }
   ],
   "source": [
    "# return the top n recommendations using the \n",
    "def recommended_movies(user_ratings,movie_title_df,n):\n",
    "    for index, movie in enumerate(user_ratings):\n",
    "        title = movie_title_df.loc[movie_title_df['movieId']== movie[0]]['title']\n",
    "        print(f'Recommendation # {index}: {title} \\n')\n",
    "        n -= 1\n",
    "        if n == 0:\n",
    "            break\n",
    "recommended_movies(ranked_movies,df_movies,5)"
   ]
  },
  {
   "cell_type": "markdown",
   "metadata": {},
   "source": [
    "## Level Up (Optional)\n",
    "\n",
    "* Try and chain all of the steps together into one function that asks users for ratings for a certain number of movies, then all of the above steps are performed to return the top $n$ recommendations\n",
    "* Make a recommender system that only returns items that come from a specified genre"
   ]
  },
  {
   "cell_type": "markdown",
   "metadata": {},
   "source": [
    "## Summary\n",
    "\n",
    "In this lab, you got the chance to implement a collaborative filtering model as well as retrieve recommendations from that model. You also got the opportunity to add your own recommendations to the system to get new recommendations for yourself! Next, you will learn how to use Spark to make recommender systems."
   ]
  }
 ],
 "metadata": {
  "kernelspec": {
   "display_name": "Python 3",
   "language": "python",
   "name": "python3"
  },
  "language_info": {
   "codemirror_mode": {
    "name": "ipython",
    "version": 3
   },
   "file_extension": ".py",
   "mimetype": "text/x-python",
   "name": "python",
   "nbconvert_exporter": "python",
   "pygments_lexer": "ipython3",
   "version": "3.6.9"
  },
  "toc": {
   "base_numbering": 1,
   "nav_menu": {},
   "number_sections": true,
   "sideBar": true,
   "skip_h1_title": false,
   "title_cell": "Table of Contents",
   "title_sidebar": "Contents",
   "toc_cell": false,
   "toc_position": {},
   "toc_section_display": true,
   "toc_window_display": false
  }
 },
 "nbformat": 4,
 "nbformat_minor": 2
}
